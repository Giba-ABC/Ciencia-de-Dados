{
 "cells": [
  {
   "cell_type": "code",
   "execution_count": 59,
   "metadata": {
    "ExecuteTime": {
     "end_time": "2021-06-18T12:32:23.706469Z",
     "start_time": "2021-06-18T12:32:23.691478Z"
    }
   },
   "outputs": [],
   "source": [
    "# Bibliotecas\n",
    "import pandas            as pd\n",
    "import pathlib\n",
    "import numpy             as np\n",
    "import seaborn           as sns\n",
    "import matplotlib.pyplot as plt"
   ]
  },
  {
   "cell_type": "code",
   "execution_count": 55,
   "metadata": {
    "ExecuteTime": {
     "end_time": "2021-06-18T12:30:48.430063Z",
     "start_time": "2021-06-18T12:30:48.354112Z"
    }
   },
   "outputs": [],
   "source": [
    "#pd.get_option('display.max_colwidth')\n",
    "pd.set_option('display.max_colwidth',50)\n",
    "pd.set_option(\"max_columns\", 500)\n",
    "pd.set_option('display.float_format', lambda x: '%.4f' % x)  ## ajusta exibição no pandas\n"
   ]
  },
  {
   "cell_type": "markdown",
   "metadata": {
    "heading_collapsed": true
   },
   "source": [
    "# ETL"
   ]
  },
  {
   "cell_type": "code",
   "execution_count": null,
   "metadata": {
    "ExecuteTime": {
     "end_time": "2021-06-17T19:16:38.465262Z",
     "start_time": "2021-06-17T18:20:30.951840Z"
    },
    "hidden": true,
    "scrolled": true
   },
   "outputs": [],
   "source": [
    "# carrega os dados\n",
    "%time\n",
    "\n",
    "meses = {'jan': 1, 'fev':2, 'mar':3, 'abr': 4, 'mai':5, 'jun': 6, 'jul': 7, 'ago': 8, 'set': 9, 'out': 10, 'nov': 11, 'dez': 12}\n",
    "\n",
    "caminho_bases = pathlib.Path(r'F:\\2021\\estudo\\hashtag\\10-02\\dataset')\n",
    "\n",
    "base_airbnb = pd.DataFrame()\n",
    "\n",
    "for arquivo in caminho_bases.iterdir():\n",
    "    print(arquivo.name)\n",
    "    nome_mes = arquivo.name[:3]\n",
    "    mes = meses[nome_mes]\n",
    "    \n",
    "    ano = arquivo.name[-8:]\n",
    "    ano = int(ano.replace('.csv', ''))\n",
    "    \n",
    "    df = pd.read_csv(caminho_bases / arquivo.name, low_memory=False)\n",
    "    df['ano'] = ano\n",
    "    df['mes'] = mes\n",
    "    base_airbnb = base_airbnb.append(df)\n"
   ]
  },
  {
   "cell_type": "code",
   "execution_count": 23,
   "metadata": {
    "ExecuteTime": {
     "end_time": "2021-06-17T23:46:56.884208Z",
     "start_time": "2021-06-17T23:46:56.219286Z"
    },
    "hidden": true
   },
   "outputs": [
    {
     "data": {
      "text/html": [
       "<div>\n",
       "<style scoped>\n",
       "    .dataframe tbody tr th:only-of-type {\n",
       "        vertical-align: middle;\n",
       "    }\n",
       "\n",
       "    .dataframe tbody tr th {\n",
       "        vertical-align: top;\n",
       "    }\n",
       "\n",
       "    .dataframe thead th {\n",
       "        text-align: right;\n",
       "    }\n",
       "</style>\n",
       "<table border=\"1\" class=\"dataframe\">\n",
       "  <thead>\n",
       "    <tr style=\"text-align: right;\">\n",
       "      <th></th>\n",
       "      <th>id</th>\n",
       "      <th>listing_url</th>\n",
       "      <th>scrape_id</th>\n",
       "      <th>last_scraped</th>\n",
       "      <th>name</th>\n",
       "      <th>summary</th>\n",
       "      <th>space</th>\n",
       "      <th>description</th>\n",
       "      <th>experiences_offered</th>\n",
       "      <th>neighborhood_overview</th>\n",
       "      <th>notes</th>\n",
       "      <th>transit</th>\n",
       "      <th>access</th>\n",
       "      <th>interaction</th>\n",
       "      <th>house_rules</th>\n",
       "      <th>thumbnail_url</th>\n",
       "      <th>medium_url</th>\n",
       "      <th>picture_url</th>\n",
       "      <th>xl_picture_url</th>\n",
       "      <th>host_id</th>\n",
       "      <th>host_url</th>\n",
       "      <th>host_name</th>\n",
       "      <th>host_since</th>\n",
       "      <th>host_location</th>\n",
       "      <th>host_about</th>\n",
       "      <th>host_response_time</th>\n",
       "      <th>host_response_rate</th>\n",
       "      <th>host_acceptance_rate</th>\n",
       "      <th>host_is_superhost</th>\n",
       "      <th>host_thumbnail_url</th>\n",
       "      <th>host_picture_url</th>\n",
       "      <th>host_neighbourhood</th>\n",
       "      <th>host_listings_count</th>\n",
       "      <th>host_total_listings_count</th>\n",
       "      <th>host_verifications</th>\n",
       "      <th>host_has_profile_pic</th>\n",
       "      <th>host_identity_verified</th>\n",
       "      <th>street</th>\n",
       "      <th>neighbourhood</th>\n",
       "      <th>neighbourhood_cleansed</th>\n",
       "      <th>neighbourhood_group_cleansed</th>\n",
       "      <th>city</th>\n",
       "      <th>state</th>\n",
       "      <th>zipcode</th>\n",
       "      <th>market</th>\n",
       "      <th>smart_location</th>\n",
       "      <th>country_code</th>\n",
       "      <th>country</th>\n",
       "      <th>latitude</th>\n",
       "      <th>longitude</th>\n",
       "      <th>is_location_exact</th>\n",
       "      <th>property_type</th>\n",
       "      <th>room_type</th>\n",
       "      <th>accommodates</th>\n",
       "      <th>bathrooms</th>\n",
       "      <th>bedrooms</th>\n",
       "      <th>beds</th>\n",
       "      <th>bed_type</th>\n",
       "      <th>amenities</th>\n",
       "      <th>square_feet</th>\n",
       "      <th>price</th>\n",
       "      <th>weekly_price</th>\n",
       "      <th>monthly_price</th>\n",
       "      <th>security_deposit</th>\n",
       "      <th>cleaning_fee</th>\n",
       "      <th>guests_included</th>\n",
       "      <th>extra_people</th>\n",
       "      <th>minimum_nights</th>\n",
       "      <th>maximum_nights</th>\n",
       "      <th>calendar_updated</th>\n",
       "      <th>has_availability</th>\n",
       "      <th>availability_30</th>\n",
       "      <th>availability_60</th>\n",
       "      <th>availability_90</th>\n",
       "      <th>availability_365</th>\n",
       "      <th>calendar_last_scraped</th>\n",
       "      <th>number_of_reviews</th>\n",
       "      <th>first_review</th>\n",
       "      <th>last_review</th>\n",
       "      <th>review_scores_rating</th>\n",
       "      <th>review_scores_accuracy</th>\n",
       "      <th>review_scores_cleanliness</th>\n",
       "      <th>review_scores_checkin</th>\n",
       "      <th>review_scores_communication</th>\n",
       "      <th>review_scores_location</th>\n",
       "      <th>review_scores_value</th>\n",
       "      <th>requires_license</th>\n",
       "      <th>license</th>\n",
       "      <th>jurisdiction_names</th>\n",
       "      <th>instant_bookable</th>\n",
       "      <th>is_business_travel_ready</th>\n",
       "      <th>cancellation_policy</th>\n",
       "      <th>require_guest_profile_picture</th>\n",
       "      <th>require_guest_phone_verification</th>\n",
       "      <th>calculated_host_listings_count</th>\n",
       "      <th>reviews_per_month</th>\n",
       "      <th>ano</th>\n",
       "      <th>mes</th>\n",
       "      <th>minimum_minimum_nights</th>\n",
       "      <th>maximum_minimum_nights</th>\n",
       "      <th>minimum_maximum_nights</th>\n",
       "      <th>maximum_maximum_nights</th>\n",
       "      <th>minimum_nights_avg_ntm</th>\n",
       "      <th>maximum_nights_avg_ntm</th>\n",
       "      <th>number_of_reviews_ltm</th>\n",
       "      <th>calculated_host_listings_count_entire_homes</th>\n",
       "      <th>calculated_host_listings_count_private_rooms</th>\n",
       "      <th>calculated_host_listings_count_shared_rooms</th>\n",
       "    </tr>\n",
       "  </thead>\n",
       "  <tbody>\n",
       "    <tr>\n",
       "      <th>0</th>\n",
       "      <td>14063</td>\n",
       "      <td>https://www.airbnb.com/rooms/14063</td>\n",
       "      <td>20180414160018</td>\n",
       "      <td>2018-04-14</td>\n",
       "      <td>Living in a Postcard</td>\n",
       "      <td>Besides the most iconic's view, our apartment ...</td>\n",
       "      <td>NaN</td>\n",
       "      <td>Besides the most iconic's view, our apartment ...</td>\n",
       "      <td>none</td>\n",
       "      <td>Best and favorite neighborhood of Rio. Perfect...</td>\n",
       "      <td>NaN</td>\n",
       "      <td>Everything is there. METRO is 5 min walk.  Dir...</td>\n",
       "      <td>NaN</td>\n",
       "      <td>NaN</td>\n",
       "      <td>strictly no smoking in the apartment ! We want...</td>\n",
       "      <td>NaN</td>\n",
       "      <td>NaN</td>\n",
       "      <td>https://a0.muscache.com/im/pictures/66421/ae9b...</td>\n",
       "      <td>NaN</td>\n",
       "      <td>53598</td>\n",
       "      <td>https://www.airbnb.com/users/show/53598</td>\n",
       "      <td>Shalev</td>\n",
       "      <td>2009-11-12</td>\n",
       "      <td>FL</td>\n",
       "      <td>Hello , my name is Shalev , I am an orchestra ...</td>\n",
       "      <td>NaN</td>\n",
       "      <td>NaN</td>\n",
       "      <td>NaN</td>\n",
       "      <td>f</td>\n",
       "      <td>https://a0.muscache.com/im/users/53598/profile...</td>\n",
       "      <td>https://a0.muscache.com/im/users/53598/profile...</td>\n",
       "      <td>Botafogo</td>\n",
       "      <td>1.0</td>\n",
       "      <td>1.0</td>\n",
       "      <td>['email', 'phone', 'reviews', 'jumio']</td>\n",
       "      <td>t</td>\n",
       "      <td>t</td>\n",
       "      <td>Rio de Janeiro, RJ, Brazil</td>\n",
       "      <td>Botafogo</td>\n",
       "      <td>Botafogo</td>\n",
       "      <td>NaN</td>\n",
       "      <td>Rio de Janeiro</td>\n",
       "      <td>RJ</td>\n",
       "      <td>22250-040</td>\n",
       "      <td>Rio De Janeiro</td>\n",
       "      <td>Rio de Janeiro, Brazil</td>\n",
       "      <td>BR</td>\n",
       "      <td>Brazil</td>\n",
       "      <td>-22.946854</td>\n",
       "      <td>-43.182737</td>\n",
       "      <td>t</td>\n",
       "      <td>Apartment</td>\n",
       "      <td>Entire home/apt</td>\n",
       "      <td>4</td>\n",
       "      <td>1.0</td>\n",
       "      <td>0.0</td>\n",
       "      <td>2.0</td>\n",
       "      <td>Real Bed</td>\n",
       "      <td>{TV,Internet,\"Air conditioning\",Kitchen,Doorma...</td>\n",
       "      <td>NaN</td>\n",
       "      <td>$133.00</td>\n",
       "      <td>$823.00</td>\n",
       "      <td>$2,698.00</td>\n",
       "      <td>$1,025.00</td>\n",
       "      <td>$102.00</td>\n",
       "      <td>2</td>\n",
       "      <td>$34.00</td>\n",
       "      <td>60</td>\n",
       "      <td>365</td>\n",
       "      <td>7 weeks ago</td>\n",
       "      <td>t</td>\n",
       "      <td>28</td>\n",
       "      <td>58</td>\n",
       "      <td>88</td>\n",
       "      <td>363</td>\n",
       "      <td>2018-04-14</td>\n",
       "      <td>38</td>\n",
       "      <td>2010-01-03</td>\n",
       "      <td>2018-03-04</td>\n",
       "      <td>91.0</td>\n",
       "      <td>9.0</td>\n",
       "      <td>9.0</td>\n",
       "      <td>9.0</td>\n",
       "      <td>9.0</td>\n",
       "      <td>9.0</td>\n",
       "      <td>9.0</td>\n",
       "      <td>f</td>\n",
       "      <td>NaN</td>\n",
       "      <td>NaN</td>\n",
       "      <td>f</td>\n",
       "      <td>f</td>\n",
       "      <td>strict_14_with_grace_period</td>\n",
       "      <td>f</td>\n",
       "      <td>f</td>\n",
       "      <td>1</td>\n",
       "      <td>0.38</td>\n",
       "      <td>2018</td>\n",
       "      <td>4</td>\n",
       "      <td>NaN</td>\n",
       "      <td>NaN</td>\n",
       "      <td>NaN</td>\n",
       "      <td>NaN</td>\n",
       "      <td>NaN</td>\n",
       "      <td>NaN</td>\n",
       "      <td>NaN</td>\n",
       "      <td>NaN</td>\n",
       "      <td>NaN</td>\n",
       "      <td>NaN</td>\n",
       "    </tr>\n",
       "    <tr>\n",
       "      <th>1</th>\n",
       "      <td>17878</td>\n",
       "      <td>https://www.airbnb.com/rooms/17878</td>\n",
       "      <td>20180414160018</td>\n",
       "      <td>2018-04-14</td>\n",
       "      <td>Very Nice 2Br - Copacabana - WiFi</td>\n",
       "      <td>Please note that special rates apply for New Y...</td>\n",
       "      <td>- large balcony which looks out on pedestrian ...</td>\n",
       "      <td>Please note that special rates apply for New Y...</td>\n",
       "      <td>none</td>\n",
       "      <td>This is the best spot in Rio. Everything happe...</td>\n",
       "      <td>NaN</td>\n",
       "      <td>Excellent location. Close to all major public ...</td>\n",
       "      <td>The entire apartment is yours. It is a vacatio...</td>\n",
       "      <td>I will be available throughout your stay shoul...</td>\n",
       "      <td>Please leave the apartment in a clean fashion ...</td>\n",
       "      <td>NaN</td>\n",
       "      <td>NaN</td>\n",
       "      <td>https://a0.muscache.com/im/pictures/65320518/3...</td>\n",
       "      <td>NaN</td>\n",
       "      <td>68997</td>\n",
       "      <td>https://www.airbnb.com/users/show/68997</td>\n",
       "      <td>Matthias</td>\n",
       "      <td>2010-01-08</td>\n",
       "      <td>Rio de Janeiro, Rio de Janeiro, Brazil</td>\n",
       "      <td>I used to work as a journalist all around the ...</td>\n",
       "      <td>within an hour</td>\n",
       "      <td>100%</td>\n",
       "      <td>NaN</td>\n",
       "      <td>t</td>\n",
       "      <td>https://a0.muscache.com/im/pictures/67b13cea-8...</td>\n",
       "      <td>https://a0.muscache.com/im/pictures/67b13cea-8...</td>\n",
       "      <td>Copacabana</td>\n",
       "      <td>2.0</td>\n",
       "      <td>2.0</td>\n",
       "      <td>['email', 'phone', 'reviews']</td>\n",
       "      <td>t</td>\n",
       "      <td>f</td>\n",
       "      <td>Rio de Janeiro, Rio de Janeiro, Brazil</td>\n",
       "      <td>Copacabana</td>\n",
       "      <td>Copacabana</td>\n",
       "      <td>NaN</td>\n",
       "      <td>Rio de Janeiro</td>\n",
       "      <td>Rio de Janeiro</td>\n",
       "      <td>22020-050</td>\n",
       "      <td>Rio De Janeiro</td>\n",
       "      <td>Rio de Janeiro, Brazil</td>\n",
       "      <td>BR</td>\n",
       "      <td>Brazil</td>\n",
       "      <td>-22.965919</td>\n",
       "      <td>-43.178962</td>\n",
       "      <td>t</td>\n",
       "      <td>Condominium</td>\n",
       "      <td>Entire home/apt</td>\n",
       "      <td>5</td>\n",
       "      <td>1.0</td>\n",
       "      <td>2.0</td>\n",
       "      <td>2.0</td>\n",
       "      <td>Real Bed</td>\n",
       "      <td>{TV,\"Cable TV\",Internet,Wifi,\"Air conditioning...</td>\n",
       "      <td>NaN</td>\n",
       "      <td>$270.00</td>\n",
       "      <td>NaN</td>\n",
       "      <td>NaN</td>\n",
       "      <td>$0.00</td>\n",
       "      <td>$273.00</td>\n",
       "      <td>2</td>\n",
       "      <td>$51.00</td>\n",
       "      <td>4</td>\n",
       "      <td>90</td>\n",
       "      <td>yesterday</td>\n",
       "      <td>t</td>\n",
       "      <td>11</td>\n",
       "      <td>29</td>\n",
       "      <td>58</td>\n",
       "      <td>286</td>\n",
       "      <td>2018-04-14</td>\n",
       "      <td>205</td>\n",
       "      <td>2010-07-15</td>\n",
       "      <td>2018-04-10</td>\n",
       "      <td>93.0</td>\n",
       "      <td>10.0</td>\n",
       "      <td>9.0</td>\n",
       "      <td>10.0</td>\n",
       "      <td>10.0</td>\n",
       "      <td>9.0</td>\n",
       "      <td>9.0</td>\n",
       "      <td>f</td>\n",
       "      <td>NaN</td>\n",
       "      <td>NaN</td>\n",
       "      <td>t</td>\n",
       "      <td>f</td>\n",
       "      <td>strict</td>\n",
       "      <td>f</td>\n",
       "      <td>f</td>\n",
       "      <td>1</td>\n",
       "      <td>2.17</td>\n",
       "      <td>2018</td>\n",
       "      <td>4</td>\n",
       "      <td>NaN</td>\n",
       "      <td>NaN</td>\n",
       "      <td>NaN</td>\n",
       "      <td>NaN</td>\n",
       "      <td>NaN</td>\n",
       "      <td>NaN</td>\n",
       "      <td>NaN</td>\n",
       "      <td>NaN</td>\n",
       "      <td>NaN</td>\n",
       "      <td>NaN</td>\n",
       "    </tr>\n",
       "    <tr>\n",
       "      <th>2</th>\n",
       "      <td>24480</td>\n",
       "      <td>https://www.airbnb.com/rooms/24480</td>\n",
       "      <td>20180414160018</td>\n",
       "      <td>2018-04-14</td>\n",
       "      <td>Nice and cozy near Ipanema Beach</td>\n",
       "      <td>My studio is located in the best  of Ipanema. ...</td>\n",
       "      <td>The studio is located at Vinicius de Moraes St...</td>\n",
       "      <td>My studio is located in the best  of Ipanema. ...</td>\n",
       "      <td>none</td>\n",
       "      <td>The beach, the lagoon, Ipanema is a great loca...</td>\n",
       "      <td>O prédio é bastante simples , mas o apartament...</td>\n",
       "      <td>NaN</td>\n",
       "      <td>From the International airport, take a  regula...</td>\n",
       "      <td>Os hóspedes podem perguntar por email suas que...</td>\n",
       "      <td>Please remove sand when you come from the beac...</td>\n",
       "      <td>NaN</td>\n",
       "      <td>NaN</td>\n",
       "      <td>https://a0.muscache.com/im/pictures/11955612/b...</td>\n",
       "      <td>NaN</td>\n",
       "      <td>99249</td>\n",
       "      <td>https://www.airbnb.com/users/show/99249</td>\n",
       "      <td>Goya</td>\n",
       "      <td>2010-03-26</td>\n",
       "      <td>Rio de Janeiro, Rio de Janeiro, Brazil</td>\n",
       "      <td>Welcome to Rio!\\r\\nI am a filmmaker and a tea...</td>\n",
       "      <td>within an hour</td>\n",
       "      <td>100%</td>\n",
       "      <td>NaN</td>\n",
       "      <td>f</td>\n",
       "      <td>https://a0.muscache.com/im/pictures/6b40475c-2...</td>\n",
       "      <td>https://a0.muscache.com/im/pictures/6b40475c-2...</td>\n",
       "      <td>Ipanema</td>\n",
       "      <td>1.0</td>\n",
       "      <td>1.0</td>\n",
       "      <td>['email', 'phone', 'facebook', 'reviews', 'jum...</td>\n",
       "      <td>t</td>\n",
       "      <td>t</td>\n",
       "      <td>Rio de Janeiro, Rio de Janeiro, Brazil</td>\n",
       "      <td>Ipanema</td>\n",
       "      <td>Ipanema</td>\n",
       "      <td>NaN</td>\n",
       "      <td>Rio de Janeiro</td>\n",
       "      <td>Rio de Janeiro</td>\n",
       "      <td>22411-010</td>\n",
       "      <td>Rio De Janeiro</td>\n",
       "      <td>Rio de Janeiro, Brazil</td>\n",
       "      <td>BR</td>\n",
       "      <td>Brazil</td>\n",
       "      <td>-22.985698</td>\n",
       "      <td>-43.201935</td>\n",
       "      <td>t</td>\n",
       "      <td>Apartment</td>\n",
       "      <td>Entire home/apt</td>\n",
       "      <td>2</td>\n",
       "      <td>1.0</td>\n",
       "      <td>1.0</td>\n",
       "      <td>1.0</td>\n",
       "      <td>Real Bed</td>\n",
       "      <td>{TV,\"Cable TV\",Wifi,\"Air conditioning\",\"First ...</td>\n",
       "      <td>NaN</td>\n",
       "      <td>$222.00</td>\n",
       "      <td>NaN</td>\n",
       "      <td>NaN</td>\n",
       "      <td>$851.00</td>\n",
       "      <td>$211.00</td>\n",
       "      <td>2</td>\n",
       "      <td>$215.00</td>\n",
       "      <td>3</td>\n",
       "      <td>90</td>\n",
       "      <td>5 weeks ago</td>\n",
       "      <td>t</td>\n",
       "      <td>0</td>\n",
       "      <td>0</td>\n",
       "      <td>0</td>\n",
       "      <td>0</td>\n",
       "      <td>2018-04-14</td>\n",
       "      <td>85</td>\n",
       "      <td>2010-09-26</td>\n",
       "      <td>2018-02-14</td>\n",
       "      <td>95.0</td>\n",
       "      <td>10.0</td>\n",
       "      <td>10.0</td>\n",
       "      <td>10.0</td>\n",
       "      <td>10.0</td>\n",
       "      <td>10.0</td>\n",
       "      <td>9.0</td>\n",
       "      <td>f</td>\n",
       "      <td>NaN</td>\n",
       "      <td>NaN</td>\n",
       "      <td>f</td>\n",
       "      <td>f</td>\n",
       "      <td>strict</td>\n",
       "      <td>f</td>\n",
       "      <td>f</td>\n",
       "      <td>1</td>\n",
       "      <td>0.92</td>\n",
       "      <td>2018</td>\n",
       "      <td>4</td>\n",
       "      <td>NaN</td>\n",
       "      <td>NaN</td>\n",
       "      <td>NaN</td>\n",
       "      <td>NaN</td>\n",
       "      <td>NaN</td>\n",
       "      <td>NaN</td>\n",
       "      <td>NaN</td>\n",
       "      <td>NaN</td>\n",
       "      <td>NaN</td>\n",
       "      <td>NaN</td>\n",
       "    </tr>\n",
       "  </tbody>\n",
       "</table>\n",
       "</div>"
      ],
      "text/plain": [
       "      id                         listing_url       scrape_id last_scraped  \\\n",
       "0  14063  https://www.airbnb.com/rooms/14063  20180414160018   2018-04-14   \n",
       "1  17878  https://www.airbnb.com/rooms/17878  20180414160018   2018-04-14   \n",
       "2  24480  https://www.airbnb.com/rooms/24480  20180414160018   2018-04-14   \n",
       "\n",
       "                                name  \\\n",
       "0               Living in a Postcard   \n",
       "1  Very Nice 2Br - Copacabana - WiFi   \n",
       "2   Nice and cozy near Ipanema Beach   \n",
       "\n",
       "                                             summary  \\\n",
       "0  Besides the most iconic's view, our apartment ...   \n",
       "1  Please note that special rates apply for New Y...   \n",
       "2  My studio is located in the best  of Ipanema. ...   \n",
       "\n",
       "                                               space  \\\n",
       "0                                                NaN   \n",
       "1  - large balcony which looks out on pedestrian ...   \n",
       "2  The studio is located at Vinicius de Moraes St...   \n",
       "\n",
       "                                         description experiences_offered  \\\n",
       "0  Besides the most iconic's view, our apartment ...                none   \n",
       "1  Please note that special rates apply for New Y...                none   \n",
       "2  My studio is located in the best  of Ipanema. ...                none   \n",
       "\n",
       "                               neighborhood_overview  \\\n",
       "0  Best and favorite neighborhood of Rio. Perfect...   \n",
       "1  This is the best spot in Rio. Everything happe...   \n",
       "2  The beach, the lagoon, Ipanema is a great loca...   \n",
       "\n",
       "                                               notes  \\\n",
       "0                                                NaN   \n",
       "1                                                NaN   \n",
       "2  O prédio é bastante simples , mas o apartament...   \n",
       "\n",
       "                                             transit  \\\n",
       "0  Everything is there. METRO is 5 min walk.  Dir...   \n",
       "1  Excellent location. Close to all major public ...   \n",
       "2                                                NaN   \n",
       "\n",
       "                                              access  \\\n",
       "0                                                NaN   \n",
       "1  The entire apartment is yours. It is a vacatio...   \n",
       "2  From the International airport, take a  regula...   \n",
       "\n",
       "                                         interaction  \\\n",
       "0                                                NaN   \n",
       "1  I will be available throughout your stay shoul...   \n",
       "2  Os hóspedes podem perguntar por email suas que...   \n",
       "\n",
       "                                         house_rules  thumbnail_url  \\\n",
       "0  strictly no smoking in the apartment ! We want...            NaN   \n",
       "1  Please leave the apartment in a clean fashion ...            NaN   \n",
       "2  Please remove sand when you come from the beac...            NaN   \n",
       "\n",
       "   medium_url                                        picture_url  \\\n",
       "0         NaN  https://a0.muscache.com/im/pictures/66421/ae9b...   \n",
       "1         NaN  https://a0.muscache.com/im/pictures/65320518/3...   \n",
       "2         NaN  https://a0.muscache.com/im/pictures/11955612/b...   \n",
       "\n",
       "   xl_picture_url  host_id                                 host_url host_name  \\\n",
       "0             NaN    53598  https://www.airbnb.com/users/show/53598    Shalev   \n",
       "1             NaN    68997  https://www.airbnb.com/users/show/68997  Matthias   \n",
       "2             NaN    99249  https://www.airbnb.com/users/show/99249      Goya   \n",
       "\n",
       "   host_since                           host_location  \\\n",
       "0  2009-11-12                                      FL   \n",
       "1  2010-01-08  Rio de Janeiro, Rio de Janeiro, Brazil   \n",
       "2  2010-03-26  Rio de Janeiro, Rio de Janeiro, Brazil   \n",
       "\n",
       "                                          host_about host_response_time  \\\n",
       "0  Hello , my name is Shalev , I am an orchestra ...                NaN   \n",
       "1  I used to work as a journalist all around the ...     within an hour   \n",
       "2   Welcome to Rio!\\r\\nI am a filmmaker and a tea...     within an hour   \n",
       "\n",
       "  host_response_rate host_acceptance_rate host_is_superhost  \\\n",
       "0                NaN                  NaN                 f   \n",
       "1               100%                  NaN                 t   \n",
       "2               100%                  NaN                 f   \n",
       "\n",
       "                                  host_thumbnail_url  \\\n",
       "0  https://a0.muscache.com/im/users/53598/profile...   \n",
       "1  https://a0.muscache.com/im/pictures/67b13cea-8...   \n",
       "2  https://a0.muscache.com/im/pictures/6b40475c-2...   \n",
       "\n",
       "                                    host_picture_url host_neighbourhood  \\\n",
       "0  https://a0.muscache.com/im/users/53598/profile...           Botafogo   \n",
       "1  https://a0.muscache.com/im/pictures/67b13cea-8...         Copacabana   \n",
       "2  https://a0.muscache.com/im/pictures/6b40475c-2...            Ipanema   \n",
       "\n",
       "   host_listings_count  host_total_listings_count  \\\n",
       "0                  1.0                        1.0   \n",
       "1                  2.0                        2.0   \n",
       "2                  1.0                        1.0   \n",
       "\n",
       "                                  host_verifications host_has_profile_pic  \\\n",
       "0             ['email', 'phone', 'reviews', 'jumio']                    t   \n",
       "1                      ['email', 'phone', 'reviews']                    t   \n",
       "2  ['email', 'phone', 'facebook', 'reviews', 'jum...                    t   \n",
       "\n",
       "  host_identity_verified                                  street  \\\n",
       "0                      t              Rio de Janeiro, RJ, Brazil   \n",
       "1                      f  Rio de Janeiro, Rio de Janeiro, Brazil   \n",
       "2                      t  Rio de Janeiro, Rio de Janeiro, Brazil   \n",
       "\n",
       "  neighbourhood neighbourhood_cleansed  neighbourhood_group_cleansed  \\\n",
       "0      Botafogo               Botafogo                           NaN   \n",
       "1    Copacabana             Copacabana                           NaN   \n",
       "2       Ipanema                Ipanema                           NaN   \n",
       "\n",
       "             city           state    zipcode          market  \\\n",
       "0  Rio de Janeiro              RJ  22250-040  Rio De Janeiro   \n",
       "1  Rio de Janeiro  Rio de Janeiro  22020-050  Rio De Janeiro   \n",
       "2  Rio de Janeiro  Rio de Janeiro  22411-010  Rio De Janeiro   \n",
       "\n",
       "           smart_location country_code country   latitude  longitude  \\\n",
       "0  Rio de Janeiro, Brazil           BR  Brazil -22.946854 -43.182737   \n",
       "1  Rio de Janeiro, Brazil           BR  Brazil -22.965919 -43.178962   \n",
       "2  Rio de Janeiro, Brazil           BR  Brazil -22.985698 -43.201935   \n",
       "\n",
       "  is_location_exact property_type        room_type  accommodates  bathrooms  \\\n",
       "0                 t     Apartment  Entire home/apt             4        1.0   \n",
       "1                 t   Condominium  Entire home/apt             5        1.0   \n",
       "2                 t     Apartment  Entire home/apt             2        1.0   \n",
       "\n",
       "   bedrooms  beds  bed_type  \\\n",
       "0       0.0   2.0  Real Bed   \n",
       "1       2.0   2.0  Real Bed   \n",
       "2       1.0   1.0  Real Bed   \n",
       "\n",
       "                                           amenities  square_feet    price  \\\n",
       "0  {TV,Internet,\"Air conditioning\",Kitchen,Doorma...          NaN  $133.00   \n",
       "1  {TV,\"Cable TV\",Internet,Wifi,\"Air conditioning...          NaN  $270.00   \n",
       "2  {TV,\"Cable TV\",Wifi,\"Air conditioning\",\"First ...          NaN  $222.00   \n",
       "\n",
       "  weekly_price monthly_price security_deposit cleaning_fee  guests_included  \\\n",
       "0      $823.00     $2,698.00        $1,025.00      $102.00                2   \n",
       "1          NaN           NaN            $0.00      $273.00                2   \n",
       "2          NaN           NaN          $851.00      $211.00                2   \n",
       "\n",
       "  extra_people  minimum_nights  maximum_nights calendar_updated  \\\n",
       "0       $34.00              60             365      7 weeks ago   \n",
       "1       $51.00               4              90        yesterday   \n",
       "2      $215.00               3              90      5 weeks ago   \n",
       "\n",
       "  has_availability  availability_30  availability_60  availability_90  \\\n",
       "0                t               28               58               88   \n",
       "1                t               11               29               58   \n",
       "2                t                0                0                0   \n",
       "\n",
       "   availability_365 calendar_last_scraped  number_of_reviews first_review  \\\n",
       "0               363            2018-04-14                 38   2010-01-03   \n",
       "1               286            2018-04-14                205   2010-07-15   \n",
       "2                 0            2018-04-14                 85   2010-09-26   \n",
       "\n",
       "  last_review  review_scores_rating  review_scores_accuracy  \\\n",
       "0  2018-03-04                  91.0                     9.0   \n",
       "1  2018-04-10                  93.0                    10.0   \n",
       "2  2018-02-14                  95.0                    10.0   \n",
       "\n",
       "   review_scores_cleanliness  review_scores_checkin  \\\n",
       "0                        9.0                    9.0   \n",
       "1                        9.0                   10.0   \n",
       "2                       10.0                   10.0   \n",
       "\n",
       "   review_scores_communication  review_scores_location  review_scores_value  \\\n",
       "0                          9.0                     9.0                  9.0   \n",
       "1                         10.0                     9.0                  9.0   \n",
       "2                         10.0                    10.0                  9.0   \n",
       "\n",
       "  requires_license license  jurisdiction_names instant_bookable  \\\n",
       "0                f     NaN                 NaN                f   \n",
       "1                f     NaN                 NaN                t   \n",
       "2                f     NaN                 NaN                f   \n",
       "\n",
       "  is_business_travel_ready          cancellation_policy  \\\n",
       "0                        f  strict_14_with_grace_period   \n",
       "1                        f                       strict   \n",
       "2                        f                       strict   \n",
       "\n",
       "  require_guest_profile_picture require_guest_phone_verification  \\\n",
       "0                             f                                f   \n",
       "1                             f                                f   \n",
       "2                             f                                f   \n",
       "\n",
       "   calculated_host_listings_count  reviews_per_month   ano  mes  \\\n",
       "0                               1               0.38  2018    4   \n",
       "1                               1               2.17  2018    4   \n",
       "2                               1               0.92  2018    4   \n",
       "\n",
       "   minimum_minimum_nights  maximum_minimum_nights  minimum_maximum_nights  \\\n",
       "0                     NaN                     NaN                     NaN   \n",
       "1                     NaN                     NaN                     NaN   \n",
       "2                     NaN                     NaN                     NaN   \n",
       "\n",
       "   maximum_maximum_nights  minimum_nights_avg_ntm  maximum_nights_avg_ntm  \\\n",
       "0                     NaN                     NaN                     NaN   \n",
       "1                     NaN                     NaN                     NaN   \n",
       "2                     NaN                     NaN                     NaN   \n",
       "\n",
       "   number_of_reviews_ltm  calculated_host_listings_count_entire_homes  \\\n",
       "0                    NaN                                          NaN   \n",
       "1                    NaN                                          NaN   \n",
       "2                    NaN                                          NaN   \n",
       "\n",
       "   calculated_host_listings_count_private_rooms  \\\n",
       "0                                           NaN   \n",
       "1                                           NaN   \n",
       "2                                           NaN   \n",
       "\n",
       "   calculated_host_listings_count_shared_rooms  \n",
       "0                                          NaN  \n",
       "1                                          NaN  \n",
       "2                                          NaN  "
      ]
     },
     "metadata": {},
     "output_type": "display_data"
    }
   ],
   "source": [
    "display(base_airbnb.head(3))"
   ]
  },
  {
   "cell_type": "code",
   "execution_count": null,
   "metadata": {
    "ExecuteTime": {
     "end_time": "2021-06-17T23:22:02.340067Z",
     "start_time": "2021-06-17T23:22:02.311087Z"
    },
    "hidden": true
   },
   "outputs": [],
   "source": [
    "base_airbnb.columns"
   ]
  },
  {
   "cell_type": "code",
   "execution_count": null,
   "metadata": {
    "ExecuteTime": {
     "end_time": "2021-06-17T23:24:50.940570Z",
     "start_time": "2021-06-17T23:24:50.599090Z"
    },
    "hidden": true
   },
   "outputs": [],
   "source": [
    "print(base_airbnb['experiences_offered'].value_counts())"
   ]
  },
  {
   "cell_type": "code",
   "execution_count": 24,
   "metadata": {
    "ExecuteTime": {
     "end_time": "2021-06-18T00:00:31.155255Z",
     "start_time": "2021-06-17T23:54:23.313483Z"
    },
    "hidden": true
   },
   "outputs": [
    {
     "name": "stdout",
     "output_type": "stream",
     "text": [
      "['host_response_time', 'host_response_rate', 'host_is_superhost', 'host_listings_count', 'latitude', 'longitude', 'property_type', 'room_type', 'accommodates', 'bathrooms', 'bedrooms', 'beds', 'bed_type', 'amenities', 'price', 'security_deposit', 'cleaning_fee', 'guests_included', 'extra_people', 'minimum_nights', 'maximum_nights', 'number_of_reviews', 'review_scores_rating', 'review_scores_accuracy', 'review_scores_cleanliness', 'review_scores_checkin', 'review_scores_communication', 'review_scores_location', 'review_scores_value', 'instant_bookable', 'is_business_travel_ready', 'cancellation_policy', 'ano', 'mes']\n"
     ]
    },
    {
     "data": {
      "text/html": [
       "<div>\n",
       "<style scoped>\n",
       "    .dataframe tbody tr th:only-of-type {\n",
       "        vertical-align: middle;\n",
       "    }\n",
       "\n",
       "    .dataframe tbody tr th {\n",
       "        vertical-align: top;\n",
       "    }\n",
       "\n",
       "    .dataframe thead th {\n",
       "        text-align: right;\n",
       "    }\n",
       "</style>\n",
       "<table border=\"1\" class=\"dataframe\">\n",
       "  <thead>\n",
       "    <tr style=\"text-align: right;\">\n",
       "      <th></th>\n",
       "      <th>host_response_time</th>\n",
       "      <th>host_response_rate</th>\n",
       "      <th>host_is_superhost</th>\n",
       "      <th>host_listings_count</th>\n",
       "      <th>latitude</th>\n",
       "      <th>longitude</th>\n",
       "      <th>property_type</th>\n",
       "      <th>room_type</th>\n",
       "      <th>accommodates</th>\n",
       "      <th>bathrooms</th>\n",
       "      <th>bedrooms</th>\n",
       "      <th>beds</th>\n",
       "      <th>bed_type</th>\n",
       "      <th>amenities</th>\n",
       "      <th>price</th>\n",
       "      <th>security_deposit</th>\n",
       "      <th>cleaning_fee</th>\n",
       "      <th>guests_included</th>\n",
       "      <th>extra_people</th>\n",
       "      <th>minimum_nights</th>\n",
       "      <th>maximum_nights</th>\n",
       "      <th>number_of_reviews</th>\n",
       "      <th>review_scores_rating</th>\n",
       "      <th>review_scores_accuracy</th>\n",
       "      <th>review_scores_cleanliness</th>\n",
       "      <th>review_scores_checkin</th>\n",
       "      <th>review_scores_communication</th>\n",
       "      <th>review_scores_location</th>\n",
       "      <th>review_scores_value</th>\n",
       "      <th>instant_bookable</th>\n",
       "      <th>is_business_travel_ready</th>\n",
       "      <th>cancellation_policy</th>\n",
       "      <th>ano</th>\n",
       "      <th>mes</th>\n",
       "    </tr>\n",
       "  </thead>\n",
       "  <tbody>\n",
       "    <tr>\n",
       "      <th>0</th>\n",
       "      <td>NaN</td>\n",
       "      <td>NaN</td>\n",
       "      <td>f</td>\n",
       "      <td>1.0</td>\n",
       "      <td>-22.946854</td>\n",
       "      <td>-43.182737</td>\n",
       "      <td>Apartment</td>\n",
       "      <td>Entire home/apt</td>\n",
       "      <td>4</td>\n",
       "      <td>1.0</td>\n",
       "      <td>0.0</td>\n",
       "      <td>2.0</td>\n",
       "      <td>Real Bed</td>\n",
       "      <td>{TV,Internet,\"Air conditioning\",Kitchen,Doorma...</td>\n",
       "      <td>$133.00</td>\n",
       "      <td>$1,025.00</td>\n",
       "      <td>$102.00</td>\n",
       "      <td>2</td>\n",
       "      <td>$34.00</td>\n",
       "      <td>60</td>\n",
       "      <td>365</td>\n",
       "      <td>38</td>\n",
       "      <td>91.0</td>\n",
       "      <td>9.0</td>\n",
       "      <td>9.0</td>\n",
       "      <td>9.0</td>\n",
       "      <td>9.0</td>\n",
       "      <td>9.0</td>\n",
       "      <td>9.0</td>\n",
       "      <td>f</td>\n",
       "      <td>f</td>\n",
       "      <td>strict_14_with_grace_period</td>\n",
       "      <td>2018</td>\n",
       "      <td>4</td>\n",
       "    </tr>\n",
       "    <tr>\n",
       "      <th>1</th>\n",
       "      <td>within an hour</td>\n",
       "      <td>100%</td>\n",
       "      <td>t</td>\n",
       "      <td>2.0</td>\n",
       "      <td>-22.965919</td>\n",
       "      <td>-43.178962</td>\n",
       "      <td>Condominium</td>\n",
       "      <td>Entire home/apt</td>\n",
       "      <td>5</td>\n",
       "      <td>1.0</td>\n",
       "      <td>2.0</td>\n",
       "      <td>2.0</td>\n",
       "      <td>Real Bed</td>\n",
       "      <td>{TV,\"Cable TV\",Internet,Wifi,\"Air conditioning...</td>\n",
       "      <td>$270.00</td>\n",
       "      <td>$0.00</td>\n",
       "      <td>$273.00</td>\n",
       "      <td>2</td>\n",
       "      <td>$51.00</td>\n",
       "      <td>4</td>\n",
       "      <td>90</td>\n",
       "      <td>205</td>\n",
       "      <td>93.0</td>\n",
       "      <td>10.0</td>\n",
       "      <td>9.0</td>\n",
       "      <td>10.0</td>\n",
       "      <td>10.0</td>\n",
       "      <td>9.0</td>\n",
       "      <td>9.0</td>\n",
       "      <td>t</td>\n",
       "      <td>f</td>\n",
       "      <td>strict</td>\n",
       "      <td>2018</td>\n",
       "      <td>4</td>\n",
       "    </tr>\n",
       "    <tr>\n",
       "      <th>2</th>\n",
       "      <td>within an hour</td>\n",
       "      <td>100%</td>\n",
       "      <td>f</td>\n",
       "      <td>1.0</td>\n",
       "      <td>-22.985698</td>\n",
       "      <td>-43.201935</td>\n",
       "      <td>Apartment</td>\n",
       "      <td>Entire home/apt</td>\n",
       "      <td>2</td>\n",
       "      <td>1.0</td>\n",
       "      <td>1.0</td>\n",
       "      <td>1.0</td>\n",
       "      <td>Real Bed</td>\n",
       "      <td>{TV,\"Cable TV\",Wifi,\"Air conditioning\",\"First ...</td>\n",
       "      <td>$222.00</td>\n",
       "      <td>$851.00</td>\n",
       "      <td>$211.00</td>\n",
       "      <td>2</td>\n",
       "      <td>$215.00</td>\n",
       "      <td>3</td>\n",
       "      <td>90</td>\n",
       "      <td>85</td>\n",
       "      <td>95.0</td>\n",
       "      <td>10.0</td>\n",
       "      <td>10.0</td>\n",
       "      <td>10.0</td>\n",
       "      <td>10.0</td>\n",
       "      <td>10.0</td>\n",
       "      <td>9.0</td>\n",
       "      <td>f</td>\n",
       "      <td>f</td>\n",
       "      <td>strict</td>\n",
       "      <td>2018</td>\n",
       "      <td>4</td>\n",
       "    </tr>\n",
       "    <tr>\n",
       "      <th>3</th>\n",
       "      <td>within an hour</td>\n",
       "      <td>100%</td>\n",
       "      <td>f</td>\n",
       "      <td>3.0</td>\n",
       "      <td>-22.977117</td>\n",
       "      <td>-43.190454</td>\n",
       "      <td>Apartment</td>\n",
       "      <td>Entire home/apt</td>\n",
       "      <td>3</td>\n",
       "      <td>1.0</td>\n",
       "      <td>1.0</td>\n",
       "      <td>2.0</td>\n",
       "      <td>Real Bed</td>\n",
       "      <td>{TV,\"Cable TV\",Internet,Wifi,\"Air conditioning...</td>\n",
       "      <td>$161.00</td>\n",
       "      <td>$1,000.00</td>\n",
       "      <td>$220.00</td>\n",
       "      <td>2</td>\n",
       "      <td>$45.00</td>\n",
       "      <td>4</td>\n",
       "      <td>30</td>\n",
       "      <td>208</td>\n",
       "      <td>94.0</td>\n",
       "      <td>9.0</td>\n",
       "      <td>10.0</td>\n",
       "      <td>10.0</td>\n",
       "      <td>10.0</td>\n",
       "      <td>10.0</td>\n",
       "      <td>9.0</td>\n",
       "      <td>f</td>\n",
       "      <td>f</td>\n",
       "      <td>strict</td>\n",
       "      <td>2018</td>\n",
       "      <td>4</td>\n",
       "    </tr>\n",
       "    <tr>\n",
       "      <th>4</th>\n",
       "      <td>within an hour</td>\n",
       "      <td>100%</td>\n",
       "      <td>t</td>\n",
       "      <td>1.0</td>\n",
       "      <td>-22.983024</td>\n",
       "      <td>-43.214270</td>\n",
       "      <td>Apartment</td>\n",
       "      <td>Entire home/apt</td>\n",
       "      <td>3</td>\n",
       "      <td>1.0</td>\n",
       "      <td>1.0</td>\n",
       "      <td>2.0</td>\n",
       "      <td>Real Bed</td>\n",
       "      <td>{TV,\"Cable TV\",Internet,Wifi,\"Air conditioning...</td>\n",
       "      <td>$222.00</td>\n",
       "      <td>NaN</td>\n",
       "      <td>$85.00</td>\n",
       "      <td>2</td>\n",
       "      <td>$68.00</td>\n",
       "      <td>2</td>\n",
       "      <td>1125</td>\n",
       "      <td>200</td>\n",
       "      <td>96.0</td>\n",
       "      <td>10.0</td>\n",
       "      <td>10.0</td>\n",
       "      <td>10.0</td>\n",
       "      <td>10.0</td>\n",
       "      <td>10.0</td>\n",
       "      <td>9.0</td>\n",
       "      <td>t</td>\n",
       "      <td>f</td>\n",
       "      <td>strict</td>\n",
       "      <td>2018</td>\n",
       "      <td>4</td>\n",
       "    </tr>\n",
       "  </tbody>\n",
       "</table>\n",
       "</div>"
      ],
      "text/plain": [
       "  host_response_time host_response_rate host_is_superhost  \\\n",
       "0                NaN                NaN                 f   \n",
       "1     within an hour               100%                 t   \n",
       "2     within an hour               100%                 f   \n",
       "3     within an hour               100%                 f   \n",
       "4     within an hour               100%                 t   \n",
       "\n",
       "   host_listings_count   latitude  longitude property_type        room_type  \\\n",
       "0                  1.0 -22.946854 -43.182737     Apartment  Entire home/apt   \n",
       "1                  2.0 -22.965919 -43.178962   Condominium  Entire home/apt   \n",
       "2                  1.0 -22.985698 -43.201935     Apartment  Entire home/apt   \n",
       "3                  3.0 -22.977117 -43.190454     Apartment  Entire home/apt   \n",
       "4                  1.0 -22.983024 -43.214270     Apartment  Entire home/apt   \n",
       "\n",
       "   accommodates  bathrooms  bedrooms  beds  bed_type  \\\n",
       "0             4        1.0       0.0   2.0  Real Bed   \n",
       "1             5        1.0       2.0   2.0  Real Bed   \n",
       "2             2        1.0       1.0   1.0  Real Bed   \n",
       "3             3        1.0       1.0   2.0  Real Bed   \n",
       "4             3        1.0       1.0   2.0  Real Bed   \n",
       "\n",
       "                                           amenities    price  \\\n",
       "0  {TV,Internet,\"Air conditioning\",Kitchen,Doorma...  $133.00   \n",
       "1  {TV,\"Cable TV\",Internet,Wifi,\"Air conditioning...  $270.00   \n",
       "2  {TV,\"Cable TV\",Wifi,\"Air conditioning\",\"First ...  $222.00   \n",
       "3  {TV,\"Cable TV\",Internet,Wifi,\"Air conditioning...  $161.00   \n",
       "4  {TV,\"Cable TV\",Internet,Wifi,\"Air conditioning...  $222.00   \n",
       "\n",
       "  security_deposit cleaning_fee  guests_included extra_people  minimum_nights  \\\n",
       "0        $1,025.00      $102.00                2       $34.00              60   \n",
       "1            $0.00      $273.00                2       $51.00               4   \n",
       "2          $851.00      $211.00                2      $215.00               3   \n",
       "3        $1,000.00      $220.00                2       $45.00               4   \n",
       "4              NaN       $85.00                2       $68.00               2   \n",
       "\n",
       "   maximum_nights  number_of_reviews  review_scores_rating  \\\n",
       "0             365                 38                  91.0   \n",
       "1              90                205                  93.0   \n",
       "2              90                 85                  95.0   \n",
       "3              30                208                  94.0   \n",
       "4            1125                200                  96.0   \n",
       "\n",
       "   review_scores_accuracy  review_scores_cleanliness  review_scores_checkin  \\\n",
       "0                     9.0                        9.0                    9.0   \n",
       "1                    10.0                        9.0                   10.0   \n",
       "2                    10.0                       10.0                   10.0   \n",
       "3                     9.0                       10.0                   10.0   \n",
       "4                    10.0                       10.0                   10.0   \n",
       "\n",
       "   review_scores_communication  review_scores_location  review_scores_value  \\\n",
       "0                          9.0                     9.0                  9.0   \n",
       "1                         10.0                     9.0                  9.0   \n",
       "2                         10.0                    10.0                  9.0   \n",
       "3                         10.0                    10.0                  9.0   \n",
       "4                         10.0                    10.0                  9.0   \n",
       "\n",
       "  instant_bookable is_business_travel_ready          cancellation_policy  \\\n",
       "0                f                        f  strict_14_with_grace_period   \n",
       "1                t                        f                       strict   \n",
       "2                f                        f                       strict   \n",
       "3                f                        f                       strict   \n",
       "4                t                        f                       strict   \n",
       "\n",
       "    ano  mes  \n",
       "0  2018    4  \n",
       "1  2018    4  \n",
       "2  2018    4  \n",
       "3  2018    4  \n",
       "4  2018    4  "
      ]
     },
     "metadata": {},
     "output_type": "display_data"
    }
   ],
   "source": [
    "# depois de avaliar algumas colunas, sobrou alguns ...\n",
    "\n",
    "colunas = ['host_response_time','host_response_rate','host_is_superhost','host_listings_count','latitude','longitude','property_type','room_type','accommodates','bathrooms','bedrooms','beds','bed_type','amenities','price','security_deposit','cleaning_fee','guests_included','extra_people','minimum_nights','maximum_nights','number_of_reviews','review_scores_rating','review_scores_accuracy','review_scores_cleanliness','review_scores_checkin','review_scores_communication','review_scores_location','review_scores_value','instant_bookable','is_business_travel_ready','cancellation_policy','ano','mes']\n",
    "\n",
    "base_airbnb = base_airbnb.loc[:, colunas]\n",
    "print(list(base_airbnb.columns))\n",
    "display(base_airbnb.head())"
   ]
  },
  {
   "cell_type": "code",
   "execution_count": 26,
   "metadata": {
    "ExecuteTime": {
     "end_time": "2021-06-18T00:17:48.333675Z",
     "start_time": "2021-06-18T00:17:39.921741Z"
    },
    "hidden": true
   },
   "outputs": [
    {
     "name": "stdout",
     "output_type": "stream",
     "text": [
      "host_response_time             401843\n",
      "host_response_rate             401846\n",
      "host_is_superhost                 460\n",
      "host_listings_count               460\n",
      "latitude                            0\n",
      "longitude                           0\n",
      "property_type                       0\n",
      "room_type                           0\n",
      "accommodates                        0\n",
      "bathrooms                        1724\n",
      "bedrooms                          850\n",
      "beds                             2502\n",
      "bed_type                            0\n",
      "amenities                           0\n",
      "price                               0\n",
      "security_deposit               421280\n",
      "cleaning_fee                   313506\n",
      "guests_included                     0\n",
      "extra_people                        0\n",
      "minimum_nights                      0\n",
      "maximum_nights                      0\n",
      "number_of_reviews                   0\n",
      "review_scores_rating           448016\n",
      "review_scores_accuracy         448586\n",
      "review_scores_cleanliness      448413\n",
      "review_scores_checkin          448650\n",
      "review_scores_communication    448415\n",
      "review_scores_location         448553\n",
      "review_scores_value            448551\n",
      "instant_bookable                    0\n",
      "is_business_travel_ready            0\n",
      "cancellation_policy                 0\n",
      "ano                                 0\n",
      "mes                                 0\n",
      "dtype: int64\n"
     ]
    }
   ],
   "source": [
    "# tratar valores faltantes - nan\n",
    "print(base_airbnb.isnull().sum())"
   ]
  },
  {
   "cell_type": "code",
   "execution_count": 28,
   "metadata": {
    "ExecuteTime": {
     "end_time": "2021-06-18T00:28:29.303742Z",
     "start_time": "2021-06-18T00:28:21.812352Z"
    },
    "hidden": true
   },
   "outputs": [
    {
     "name": "stdout",
     "output_type": "stream",
     "text": [
      "host_response_time\n",
      "host_response_rate\n",
      "security_deposit\n",
      "cleaning_fee\n",
      "review_scores_rating\n",
      "review_scores_accuracy\n",
      "review_scores_cleanliness\n",
      "review_scores_checkin\n",
      "review_scores_communication\n",
      "review_scores_location\n",
      "review_scores_value\n",
      "host_is_superhost            460\n",
      "host_listings_count          460\n",
      "latitude                       0\n",
      "longitude                      0\n",
      "property_type                  0\n",
      "room_type                      0\n",
      "accommodates                   0\n",
      "bathrooms                   1724\n",
      "bedrooms                     850\n",
      "beds                        2502\n",
      "bed_type                       0\n",
      "amenities                      0\n",
      "price                          0\n",
      "guests_included                0\n",
      "extra_people                   0\n",
      "minimum_nights                 0\n",
      "maximum_nights                 0\n",
      "number_of_reviews              0\n",
      "instant_bookable               0\n",
      "is_business_travel_ready       0\n",
      "cancellation_policy            0\n",
      "ano                            0\n",
      "mes                            0\n",
      "dtype: int64\n",
      "(902210, 23)\n"
     ]
    }
   ],
   "source": [
    "# varrer as linhas e eliminar as colunas onde o tem mais de 300k de linhas vazias\n",
    "for coluna in base_airbnb:\n",
    "    if base_airbnb[coluna].isnull().sum() > 300000:\n",
    "        print(coluna)\n",
    "        base_airbnb = base_airbnb.drop(coluna, axis=1)\n",
    "\n",
    "\n",
    "print(base_airbnb.isnull().sum())\n",
    "print(base_airbnb.shape)\n"
   ]
  },
  {
   "cell_type": "code",
   "execution_count": 29,
   "metadata": {
    "ExecuteTime": {
     "end_time": "2021-06-18T00:28:57.342194Z",
     "start_time": "2021-06-18T00:28:56.316105Z"
    },
    "hidden": true
   },
   "outputs": [
    {
     "name": "stdout",
     "output_type": "stream",
     "text": [
      "<class 'pandas.core.frame.DataFrame'>\n",
      "Int64Index: 902210 entries, 0 to 34328\n",
      "Data columns (total 23 columns):\n",
      " #   Column                    Non-Null Count   Dtype  \n",
      "---  ------                    --------------   -----  \n",
      " 0   host_is_superhost         901750 non-null  object \n",
      " 1   host_listings_count       901750 non-null  float64\n",
      " 2   latitude                  902210 non-null  float64\n",
      " 3   longitude                 902210 non-null  float64\n",
      " 4   property_type             902210 non-null  object \n",
      " 5   room_type                 902210 non-null  object \n",
      " 6   accommodates              902210 non-null  int64  \n",
      " 7   bathrooms                 900486 non-null  float64\n",
      " 8   bedrooms                  901360 non-null  float64\n",
      " 9   beds                      899708 non-null  float64\n",
      " 10  bed_type                  902210 non-null  object \n",
      " 11  amenities                 902210 non-null  object \n",
      " 12  price                     902210 non-null  object \n",
      " 13  guests_included           902210 non-null  int64  \n",
      " 14  extra_people              902210 non-null  object \n",
      " 15  minimum_nights            902210 non-null  int64  \n",
      " 16  maximum_nights            902210 non-null  int64  \n",
      " 17  number_of_reviews         902210 non-null  int64  \n",
      " 18  instant_bookable          902210 non-null  object \n",
      " 19  is_business_travel_ready  902210 non-null  object \n",
      " 20  cancellation_policy       902210 non-null  object \n",
      " 21  ano                       902210 non-null  int64  \n",
      " 22  mes                       902210 non-null  int64  \n",
      "dtypes: float64(6), int64(7), object(10)\n",
      "memory usage: 165.2+ MB\n"
     ]
    }
   ],
   "source": [
    "base_airbnb.info()"
   ]
  },
  {
   "cell_type": "code",
   "execution_count": 30,
   "metadata": {
    "ExecuteTime": {
     "end_time": "2021-06-18T00:31:00.374502Z",
     "start_time": "2021-06-18T00:30:59.280150Z"
    },
    "hidden": true
   },
   "outputs": [
    {
     "name": "stdout",
     "output_type": "stream",
     "text": [
      "(897709, 23)\n"
     ]
    }
   ],
   "source": [
    "# limpando as linhas com nan\n",
    "\n",
    "base_airbnb = base_airbnb.dropna()\n",
    "\n",
    "print(base_airbnb.shape)"
   ]
  },
  {
   "cell_type": "code",
   "execution_count": 46,
   "metadata": {
    "ExecuteTime": {
     "end_time": "2021-06-18T00:46:28.539681Z",
     "start_time": "2021-06-18T00:46:27.107284Z"
    },
    "hidden": true
   },
   "outputs": [
    {
     "name": "stdout",
     "output_type": "stream",
     "text": [
      "0       133.00\n",
      "1       270.00\n",
      "2       222.00\n",
      "3       161.00\n",
      "4       222.00\n",
      "         ...  \n",
      "34324   121.00\n",
      "34325   799.00\n",
      "34326   420.00\n",
      "34327   250.00\n",
      "34328    92.00\n",
      "Name: price, Length: 897709, dtype: float32\n"
     ]
    }
   ],
   "source": [
    "# verificar tipo de dados - ajustar o price e o extra_people\n",
    "\n",
    "print(base_airbnb['price'].str.replace('$','').str.replace(',','').astype(np.float32))"
   ]
  },
  {
   "cell_type": "code",
   "execution_count": 48,
   "metadata": {
    "ExecuteTime": {
     "end_time": "2021-06-18T00:51:01.622451Z",
     "start_time": "2021-06-18T00:50:55.035718Z"
    },
    "hidden": true
   },
   "outputs": [
    {
     "name": "stderr",
     "output_type": "stream",
     "text": [
      "<ipython-input-48-80f6b9037ab2>:2: SettingWithCopyWarning: \n",
      "A value is trying to be set on a copy of a slice from a DataFrame.\n",
      "Try using .loc[row_indexer,col_indexer] = value instead\n",
      "\n",
      "See the caveats in the documentation: https://pandas.pydata.org/pandas-docs/stable/user_guide/indexing.html#returning-a-view-versus-a-copy\n",
      "  base_airbnb['price'] = base_airbnb['price'].str.replace('$','').str.replace(',','').astype(np.float32, copy=False)\n",
      "<ipython-input-48-80f6b9037ab2>:3: SettingWithCopyWarning: \n",
      "A value is trying to be set on a copy of a slice from a DataFrame.\n",
      "Try using .loc[row_indexer,col_indexer] = value instead\n",
      "\n",
      "See the caveats in the documentation: https://pandas.pydata.org/pandas-docs/stable/user_guide/indexing.html#returning-a-view-versus-a-copy\n",
      "  base_airbnb['extra_people'] = base_airbnb['extra_people'].str.replace('$','').str.replace(',','').astype(np.float32, copy=False)\n"
     ]
    },
    {
     "name": "stdout",
     "output_type": "stream",
     "text": [
      "host_is_superhost            object\n",
      "host_listings_count         float64\n",
      "latitude                    float64\n",
      "longitude                   float64\n",
      "property_type                object\n",
      "room_type                    object\n",
      "accommodates                  int64\n",
      "bathrooms                   float64\n",
      "bedrooms                    float64\n",
      "beds                        float64\n",
      "bed_type                     object\n",
      "amenities                    object\n",
      "price                       float32\n",
      "guests_included               int64\n",
      "extra_people                float32\n",
      "minimum_nights                int64\n",
      "maximum_nights                int64\n",
      "number_of_reviews             int64\n",
      "instant_bookable             object\n",
      "is_business_travel_ready     object\n",
      "cancellation_policy          object\n",
      "ano                           int64\n",
      "mes                           int64\n",
      "dtype: object\n"
     ]
    }
   ],
   "source": [
    "# muda no df\n",
    "base_airbnb['price'] = base_airbnb['price'].str.replace('$','')\n",
    "base_airbnb['price'] = base_airbnb['price'].str.replace(',','')\n",
    "base_airbnb['price'] = base_airbnb['price'].astype(np.float32, copy=False)\n",
    "\n",
    "#base_airbnb['extra_people'] = base_airbnb['extra_people'].str.replace('$','').str.replace(',','').astype(np.float32, copy=False)\n",
    "            \n",
    "            \n",
    "print(base_airbnb.dtypes)"
   ]
  },
  {
   "cell_type": "code",
   "execution_count": 56,
   "metadata": {
    "ExecuteTime": {
     "end_time": "2021-06-18T12:30:54.956619Z",
     "start_time": "2021-06-18T12:30:54.921638Z"
    },
    "hidden": true
   },
   "outputs": [
    {
     "data": {
      "text/plain": [
       "(897709, 23)"
      ]
     },
     "metadata": {},
     "output_type": "display_data"
    }
   ],
   "source": [
    "display(base_airbnb.shape)\n"
   ]
  },
  {
   "cell_type": "markdown",
   "metadata": {},
   "source": [
    "# Analise exploratória \n",
    "\n"
   ]
  },
  {
   "cell_type": "markdown",
   "metadata": {
    "heading_collapsed": true
   },
   "source": [
    "## Correlações"
   ]
  },
  {
   "cell_type": "code",
   "execution_count": 57,
   "metadata": {
    "ExecuteTime": {
     "end_time": "2021-06-18T12:31:07.273021Z",
     "start_time": "2021-06-18T12:31:05.657248Z"
    },
    "hidden": true
   },
   "outputs": [
    {
     "name": "stdout",
     "output_type": "stream",
     "text": [
      "                     host_listings_count  latitude  longitude  accommodates  \\\n",
      "host_listings_count               1.0000   -0.0341     0.0636        0.0693   \n",
      "latitude                         -0.0341    1.0000     0.3704       -0.1421   \n",
      "longitude                         0.0636    0.3704     1.0000       -0.1217   \n",
      "accommodates                      0.0693   -0.1421    -0.1217        1.0000   \n",
      "bathrooms                         0.0223   -0.1691    -0.1705        0.5219   \n",
      "bedrooms                          0.0397   -0.1651    -0.1863        0.6759   \n",
      "beds                              0.0428   -0.1139    -0.1104        0.6927   \n",
      "price                             0.0923   -0.0924    -0.0855        0.2699   \n",
      "guests_included                   0.0419   -0.0911     0.0494        0.3176   \n",
      "extra_people                     -0.0316   -0.0411     0.0017        0.0787   \n",
      "minimum_nights                   -0.0064   -0.0161    -0.0192        0.0246   \n",
      "maximum_nights                   -0.0001   -0.0014     0.0034       -0.0042   \n",
      "number_of_reviews                -0.0260   -0.0460     0.1354       -0.0299   \n",
      "ano                               0.0318    0.0026     0.0126       -0.0008   \n",
      "mes                              -0.0096    0.0024    -0.0080       -0.0034   \n",
      "\n",
      "                     bathrooms  bedrooms    beds   price  guests_included  \\\n",
      "host_listings_count     0.0223    0.0397  0.0428  0.0923           0.0419   \n",
      "latitude               -0.1691   -0.1651 -0.1139 -0.0924          -0.0911   \n",
      "longitude              -0.1705   -0.1863 -0.1104 -0.0855           0.0494   \n",
      "accommodates            0.5219    0.6759  0.6927  0.2699           0.3176   \n",
      "bathrooms               1.0000    0.6315  0.4915  0.3108           0.1717   \n",
      "bedrooms                0.6315    1.0000  0.6253  0.3217           0.2597   \n",
      "beds                    0.4915    0.6253  1.0000  0.2047           0.2788   \n",
      "price                   0.3108    0.3217  0.2047  1.0000           0.0322   \n",
      "guests_included         0.1717    0.2597  0.2788  0.0322           1.0000   \n",
      "extra_people            0.0778    0.0789  0.0778  0.0447           0.2907   \n",
      "minimum_nights          0.0359    0.0368  0.0177  0.0274           0.0053   \n",
      "maximum_nights         -0.0008   -0.0021 -0.0031 -0.0011          -0.0008   \n",
      "number_of_reviews      -0.0695   -0.0837 -0.0214 -0.0780           0.1132   \n",
      "ano                    -0.0096   -0.0072 -0.0122  0.0179           0.0275   \n",
      "mes                     0.0038    0.0028  0.0004 -0.0031          -0.0074   \n",
      "\n",
      "                     extra_people  minimum_nights  maximum_nights  \\\n",
      "host_listings_count       -0.0316         -0.0064         -0.0001   \n",
      "latitude                  -0.0411         -0.0161         -0.0014   \n",
      "longitude                  0.0017         -0.0192          0.0034   \n",
      "accommodates               0.0787          0.0246         -0.0042   \n",
      "bathrooms                  0.0778          0.0359         -0.0008   \n",
      "bedrooms                   0.0789          0.0368         -0.0021   \n",
      "beds                       0.0778          0.0177         -0.0031   \n",
      "price                      0.0447          0.0274         -0.0011   \n",
      "guests_included            0.2907          0.0053         -0.0008   \n",
      "extra_people               1.0000          0.0204         -0.0005   \n",
      "minimum_nights             0.0204          1.0000         -0.0007   \n",
      "maximum_nights            -0.0005         -0.0007          1.0000   \n",
      "number_of_reviews          0.0123         -0.0234          0.0047   \n",
      "ano                        0.0136          0.0091         -0.0044   \n",
      "mes                       -0.0026          0.0030          0.0006   \n",
      "\n",
      "                     number_of_reviews     ano     mes  \n",
      "host_listings_count            -0.0260  0.0318 -0.0096  \n",
      "latitude                       -0.0460  0.0026  0.0024  \n",
      "longitude                       0.1354  0.0126 -0.0080  \n",
      "accommodates                   -0.0299 -0.0008 -0.0034  \n",
      "bathrooms                      -0.0695 -0.0096  0.0038  \n",
      "bedrooms                       -0.0837 -0.0072  0.0028  \n",
      "beds                           -0.0214 -0.0122  0.0004  \n",
      "price                          -0.0780  0.0179 -0.0031  \n",
      "guests_included                 0.1132  0.0275 -0.0074  \n",
      "extra_people                    0.0123  0.0136 -0.0026  \n",
      "minimum_nights                 -0.0234  0.0091  0.0030  \n",
      "maximum_nights                  0.0047 -0.0044  0.0006  \n",
      "number_of_reviews               1.0000  0.0617 -0.0098  \n",
      "ano                             0.0617  1.0000 -0.5190  \n",
      "mes                            -0.0098 -0.5190  1.0000  \n"
     ]
    }
   ],
   "source": [
    "\n",
    "print(base_airbnb.corr())\n"
   ]
  },
  {
   "cell_type": "code",
   "execution_count": 62,
   "metadata": {
    "ExecuteTime": {
     "end_time": "2021-06-18T12:36:30.603875Z",
     "start_time": "2021-06-18T12:36:27.387180Z"
    },
    "hidden": true
   },
   "outputs": [
    {
     "data": {
      "text/plain": [
       "<matplotlib.axes._subplots.AxesSubplot at 0x1f4ab50aca0>"
      ]
     },
     "execution_count": 62,
     "metadata": {},
     "output_type": "execute_result"
    },
    {
     "data": {
      "image/png": "[encoded data removed]",
      "text/plain": [
       "<Figure size 1296x576 with 2 Axes>"
      ]
     },
     "metadata": {
      "needs_background": "light"
     },
     "output_type": "display_data"
    }
   ],
   "source": [
    "# Gráfico\n",
    "plt.figure(figsize=(18,8))\n",
    "sns.heatmap(base_airbnb.corr(), annot=True, cmap = 'Greens')"
   ]
  },
  {
   "cell_type": "markdown",
   "metadata": {
    "ExecuteTime": {
     "end_time": "2021-06-18T12:41:45.798604Z",
     "start_time": "2021-06-18T12:41:45.785612Z"
    }
   },
   "source": [
    "## Outliers"
   ]
  },
  {
   "cell_type": "code",
   "execution_count": 64,
   "metadata": {
    "ExecuteTime": {
     "end_time": "2021-06-18T12:45:16.645412Z",
     "start_time": "2021-06-18T12:45:16.635419Z"
    }
   },
   "outputs": [],
   "source": [
    "# criando funções para definir os Quartis"
   ]
  },
  {
   "cell_type": "code",
   "execution_count": 68,
   "metadata": {
    "ExecuteTime": {
     "end_time": "2021-06-18T12:54:03.649337Z",
     "start_time": "2021-06-18T12:54:03.633348Z"
    }
   },
   "outputs": [],
   "source": [
    "def limites(coluna):\n",
    "    '''\n",
    "    Define os limites do Outliers\n",
    "    q1 = primeiro quartil\n",
    "    q3 = terceiro quartil\n",
    "    amplitude = q3 - q1\n",
    "    limite inferior = q1 - 1.5 * amplitude\n",
    "    limite superior = q3 + 1.5 * amplitude\n",
    "    \n",
    "    '''\n",
    "    q1 = coluna.quantile(0.25)\n",
    "    q3 = coluna.quantile(0.75)\n",
    "    am = q3 - q1\n",
    "    return q1 - 1.5 * am, q3 + 1.5 * am\n",
    "    "
   ]
  },
  {
   "cell_type": "code",
   "execution_count": 67,
   "metadata": {
    "ExecuteTime": {
     "end_time": "2021-06-18T12:52:12.599036Z",
     "start_time": "2021-06-18T12:52:12.512083Z"
    }
   },
   "outputs": [
    {
     "name": "stdout",
     "output_type": "stream",
     "text": [
      "(-0.5, 3.5)\n"
     ]
    }
   ],
   "source": [
    "print(limites(base_airbnb['bedrooms']))"
   ]
  },
  {
   "cell_type": "code",
   "execution_count": 101,
   "metadata": {
    "ExecuteTime": {
     "end_time": "2021-06-18T14:43:43.085305Z",
     "start_time": "2021-06-18T14:43:43.052326Z"
    }
   },
   "outputs": [],
   "source": [
    "# criar função de gráficos\n",
    "\n",
    "def diagrama_caixa(coluna):\n",
    "    fig, (ax1, ax2) = plt.subplots(1,2)\n",
    "    fig.set_size_inches(15,5)\n",
    "    \n",
    "    sns.boxplot(x=coluna, ax=ax1)\n",
    "    \n",
    "    ax2.set_xlim(limites(coluna))\n",
    "    sns.boxplot(x=coluna, ax=ax2)\n",
    "    \n",
    "def histograma(coluna):\n",
    "    plt.figure(figsize=(15,5))\n",
    "    sns.distplot(coluna, hist=True)\n",
    "    \n",
    "    \n",
    "def excluir_outliers(df, coluna):\n",
    "    qtd_linhas = df.shape[0]\n",
    "    # df = df.loc[linhas, colunas]\n",
    "    linf, lsup = limites(df[coluna])\n",
    "    df = df.loc[(df[coluna] >= linf) & (df[coluna] <= lsup),:]\n",
    "    return df, qtd_linhas - df.shape[0]\n",
    "\n",
    "def conta_outliers(df, coluna):\n",
    "    linf, lsup = limites(df[coluna])\n",
    "    qtd = df.shape[0] - df[(df[coluna] >= linf) & (df[coluna] <= lsup)].count()\n",
    "    return qtd\n",
    "    "
   ]
  },
  {
   "cell_type": "markdown",
   "metadata": {},
   "source": [
    "### Analise price"
   ]
  },
  {
   "cell_type": "code",
   "execution_count": 76,
   "metadata": {
    "ExecuteTime": {
     "end_time": "2021-06-18T13:10:30.115143Z",
     "start_time": "2021-06-18T13:10:27.915267Z"
    }
   },
   "outputs": [
    {
     "data": {
      "image/png": "[encoded data removed]",
      "text/plain": [
       "<Figure size 1080x360 with 2 Axes>"
      ]
     },
     "metadata": {
      "needs_background": "light"
     },
     "output_type": "display_data"
    },
    {
     "data": {
      "image/png": "[encoded data removed]",
      "text/plain": [
       "<Figure size 1080x360 with 1 Axes>"
      ]
     },
     "metadata": {
      "needs_background": "light"
     },
     "output_type": "display_data"
    }
   ],
   "source": [
    "diagrama_caixa(base_airbnb['price'])\n",
    "histograma(base_airbnb['price'])"
   ]
  },
  {
   "cell_type": "code",
   "execution_count": 88,
   "metadata": {
    "ExecuteTime": {
     "end_time": "2021-06-18T14:11:06.282485Z",
     "start_time": "2021-06-18T14:11:05.438532Z"
    }
   },
   "outputs": [
    {
     "name": "stdout",
     "output_type": "stream",
     "text": [
      "87282 linhas removidas \n"
     ]
    }
   ],
   "source": [
    "# contar quantas observações estão fora do limites\n",
    "\n",
    "#li, ls = limites(base_airbnb['price'])\n",
    "\n",
    "#base_airbnb[(base_airbnb['price'] >= li) & (base_airbnb['price'] <= ls)].count()\n",
    "\n",
    "base_airbnb, qtd = excluir_outliers(base_airbnb, 'price')\n",
    "\n",
    "print('{} linhas removidas '.format(qtd))"
   ]
  },
  {
   "cell_type": "code",
   "execution_count": 89,
   "metadata": {
    "ExecuteTime": {
     "end_time": "2021-06-18T14:11:52.360588Z",
     "start_time": "2021-06-18T14:11:50.265510Z"
    }
   },
   "outputs": [
    {
     "data": {
      "image/png": "[encoded data removed]",
      "text/plain": [
       "<Figure size 1080x360 with 2 Axes>"
      ]
     },
     "metadata": {
      "needs_background": "light"
     },
     "output_type": "display_data"
    },
    {
     "data": {
      "image/png": "[encoded data removed]",
      "text/plain": [
       "<Figure size 1080x360 with 1 Axes>"
      ]
     },
     "metadata": {
      "needs_background": "light"
     },
     "output_type": "display_data"
    }
   ],
   "source": [
    "# ver como ficou a distribuição com o outliers do price, removido\n",
    "diagrama_caixa(base_airbnb['price'])\n",
    "histograma(base_airbnb['price'])"
   ]
  },
  {
   "cell_type": "markdown",
   "metadata": {},
   "source": [
    "### Analise extra_people"
   ]
  },
  {
   "cell_type": "code",
   "execution_count": 90,
   "metadata": {
    "ExecuteTime": {
     "end_time": "2021-06-18T14:35:15.621925Z",
     "start_time": "2021-06-18T14:35:11.510389Z"
    }
   },
   "outputs": [
    {
     "data": {
      "image/png": "[encoded data removed]",
      "text/plain": [
       "<Figure size 1080x360 with 2 Axes>"
      ]
     },
     "metadata": {
      "needs_background": "light"
     },
     "output_type": "display_data"
    },
    {
     "data": {
      "image/png": "[encoded data removed]",
      "text/plain": [
       "<Figure size 1080x360 with 1 Axes>"
      ]
     },
     "metadata": {
      "needs_background": "light"
     },
     "output_type": "display_data"
    }
   ],
   "source": [
    "diagrama_caixa(base_airbnb['extra_people'])\n",
    "histograma(base_airbnb['extra_people'])"
   ]
  },
  {
   "cell_type": "code",
   "execution_count": 103,
   "metadata": {
    "ExecuteTime": {
     "end_time": "2021-06-18T14:46:44.804427Z",
     "start_time": "2021-06-18T14:46:43.657140Z"
    }
   },
   "outputs": [
    {
     "name": "stdout",
     "output_type": "stream",
     "text": [
      "[59194]\n"
     ]
    }
   ],
   "source": [
    "print(conta_outliers(base_airbnb, 'extra_people').unique())\n",
    "# vou manter os outliers"
   ]
  },
  {
   "cell_type": "code",
   "execution_count": 104,
   "metadata": {
    "ExecuteTime": {
     "end_time": "2021-06-18T18:27:31.426714Z",
     "start_time": "2021-06-18T18:27:22.168769Z"
    }
   },
   "outputs": [
    {
     "name": "stdout",
     "output_type": "stream",
     "text": [
      "<class 'pandas.core.frame.DataFrame'>\n",
      "Int64Index: 810427 entries, 0 to 34328\n",
      "Data columns (total 23 columns):\n",
      " #   Column                    Non-Null Count   Dtype  \n",
      "---  ------                    --------------   -----  \n",
      " 0   host_is_superhost         810427 non-null  object \n",
      " 1   host_listings_count       810427 non-null  float64\n",
      " 2   latitude                  810427 non-null  float64\n",
      " 3   longitude                 810427 non-null  float64\n",
      " 4   property_type             810427 non-null  object \n",
      " 5   room_type                 810427 non-null  object \n",
      " 6   accommodates              810427 non-null  int64  \n",
      " 7   bathrooms                 810427 non-null  float64\n",
      " 8   bedrooms                  810427 non-null  float64\n",
      " 9   beds                      810427 non-null  float64\n",
      " 10  bed_type                  810427 non-null  object \n",
      " 11  amenities                 810427 non-null  object \n",
      " 12  price                     810427 non-null  float32\n",
      " 13  guests_included           810427 non-null  int64  \n",
      " 14  extra_people              810427 non-null  float32\n",
      " 15  minimum_nights            810427 non-null  int64  \n",
      " 16  maximum_nights            810427 non-null  int64  \n",
      " 17  number_of_reviews         810427 non-null  int64  \n",
      " 18  instant_bookable          810427 non-null  object \n",
      " 19  is_business_travel_ready  810427 non-null  object \n",
      " 20  cancellation_policy       810427 non-null  object \n",
      " 21  ano                       810427 non-null  int64  \n",
      " 22  mes                       810427 non-null  int64  \n",
      "dtypes: float32(2), float64(6), int64(7), object(8)\n",
      "memory usage: 142.2+ MB\n"
     ]
    }
   ],
   "source": [
    "base_airbnb.info()"
   ]
  },
  {
   "cell_type": "markdown",
   "metadata": {},
   "source": [
    "host_listings_count      \n",
    "accommodates             \n",
    "bathrooms                \n",
    "bedrooms                 \n",
    "beds                     \n",
    "bed_type                 \n",
    "guests_included          \n",
    "minimum_nights           \n",
    "maximum_nights           \n",
    "number_of_reviews        "
   ]
  },
  {
   "cell_type": "code",
   "execution_count": null,
   "metadata": {},
   "outputs": [],
   "source": []
  },
  {
   "cell_type": "code",
   "execution_count": 111,
   "metadata": {
    "ExecuteTime": {
     "end_time": "2021-06-18T18:48:46.878351Z",
     "start_time": "2021-06-18T18:48:46.810389Z"
    }
   },
   "outputs": [
    {
     "data": {
      "text/html": [
       "<div>\n",
       "<style scoped>\n",
       "    .dataframe tbody tr th:only-of-type {\n",
       "        vertical-align: middle;\n",
       "    }\n",
       "\n",
       "    .dataframe tbody tr th {\n",
       "        vertical-align: top;\n",
       "    }\n",
       "\n",
       "    .dataframe thead th {\n",
       "        text-align: right;\n",
       "    }\n",
       "</style>\n",
       "<table border=\"1\" class=\"dataframe\">\n",
       "  <thead>\n",
       "    <tr style=\"text-align: right;\">\n",
       "      <th></th>\n",
       "    </tr>\n",
       "  </thead>\n",
       "  <tbody>\n",
       "  </tbody>\n",
       "</table>\n",
       "</div>"
      ],
      "text/plain": [
       "Empty DataFrame\n",
       "Columns: []\n",
       "Index: []"
      ]
     },
     "execution_count": 111,
     "metadata": {},
     "output_type": "execute_result"
    }
   ],
   "source": [
    "# base_airbnb.to_csv('base1.csv', sep = ';')\n",
    "\n",
    "#b = pd.read_csv('base1.csv', sep = ';')\n",
    "b = pd.DataFrame()\n",
    "b"
   ]
  }
 ],
 "metadata": {
  "kernelspec": {
   "display_name": "Python 3",
   "language": "python",
   "name": "python3"
  },
  "language_info": {
   "codemirror_mode": {
    "name": "ipython",
    "version": 3
   },
   "file_extension": ".py",
   "mimetype": "text/x-python",
   "name": "python",
   "nbconvert_exporter": "python",
   "pygments_lexer": "ipython3",
   "version": "3.8.3"
  }
 },
 "nbformat": 4,
 "nbformat_minor": 4
}
